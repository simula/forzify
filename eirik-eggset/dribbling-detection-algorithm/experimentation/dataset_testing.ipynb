{
 "cells": [
  {
   "cell_type": "markdown",
   "metadata": {},
   "source": [
    "# This is a notebook for testing and visualizing the soccernet dataset"
   ]
  },
  {
   "cell_type": "markdown",
   "metadata": {},
   "source": [
    "## Load Data"
   ]
  },
  {
   "cell_type": "code",
   "execution_count": null,
   "metadata": {},
   "outputs": [],
   "source": [
    "import os\n",
    "from dotenv import load_dotenv\n",
    "load_dotenv()"
   ]
  },
  {
   "cell_type": "code",
   "execution_count": null,
   "metadata": {},
   "outputs": [],
   "source": [
    "dataset_path = os.getenv(\"DATASET_PATH\")\n",
    "print(f\"dataset_path: {dataset_path}\")"
   ]
  },
  {
   "cell_type": "markdown",
   "metadata": {},
   "source": [
    "# Read Dataset"
   ]
  },
  {
   "cell_type": "code",
   "execution_count": null,
   "metadata": {},
   "outputs": [],
   "source": [
    "import os\n",
    "import json\n",
    "import pandas as pd\n",
    "import numpy as np\n",
    "import matplotlib.pyplot as plt\n",
    "import matplotlib.patches as patches\n",
    "from PIL import Image"
   ]
  },
  {
   "cell_type": "code",
   "execution_count": null,
   "metadata": {},
   "outputs": [],
   "source": [
    "# Define the base directory\n",
    "base_dir = f\"{dataset_path}/SoccerNetGS/\"\n",
    "\n",
    "# Define the subsets\n",
    "subsets = ['train', 'valid', 'test', 'challenge']\n",
    "\n",
    "for subset in subsets[1:2]:\n",
    "    subset_dir = os.path.join(base_dir, subset)\n",
    "    if not os.path.exists(subset_dir):\n",
    "        print(f\"Directory {subset_dir} does not exist.\")\n",
    "        continue\n",
    "    \n",
    "    # List all sequences in the subset\n",
    "    sequences = os.listdir(subset_dir)\n",
    "    for seq in sequences:\n",
    "        seq_dir = os.path.join(subset_dir, seq)\n",
    "        if not os.path.exists(seq_dir):\n",
    "            continue\n",
    "        \n",
    "        images_dir = os.path.join(seq_dir, 'img1')\n",
    "        \n",
    "        # Path to the labels JSON file\n",
    "        labels_file = os.path.join(seq_dir, 'Labels-GameState.json')\n",
    "        \n",
    "        if os.path.exists(labels_file):\n",
    "            # Read the JSON file\n",
    "            with open(labels_file, 'r') as f:\n",
    "                labels = json.load(f)\n",
    "                \n",
    "            # Create a mapping from image_id to file_name\n",
    "            image_id_to_file = {}\n",
    "            for image_info in labels.get('images', []):\n",
    "                image_id_to_file[image_info['image_id']] = image_info['file_name']\n",
    "                \n",
    "            # Process annotations\n",
    "            annotations = labels.get('annotations', [])\n",
    "            for ann in annotations:\n",
    "                image_id = ann['image_id']\n",
    "                file_name = image_id_to_file.get(image_id, 'Unknown')\n",
    "                category_id = ann['category_id']\n",
    "        else:\n",
    "            print(f\"No labels file found for sequence {seq} in {subset}\")\n"
   ]
  },
  {
   "cell_type": "code",
   "execution_count": null,
   "metadata": {},
   "outputs": [],
   "source": [
    "# Load images and annotations into DataFrames\n",
    "images_df = pd.DataFrame(labels['images'])\n",
    "annotations_df = pd.DataFrame(labels['annotations'])\n",
    "categories_df = pd.DataFrame(labels['categories'])\n",
    "\n",
    "# Display the first few rows\n",
    "print(\"Images DataFrame:\")\n",
    "display(images_df.head())\n",
    "\n",
    "print(\"\\nAnnotations DataFrame:\")\n",
    "display(annotations_df.head())\n",
    "\n",
    "print(\"\\nCategories DataFrame:\")\n",
    "display(categories_df.head())"
   ]
  },
  {
   "cell_type": "code",
   "execution_count": null,
   "metadata": {},
   "outputs": [],
   "source": [
    "print(f\"supercategories: {categories_df['supercategory'].unique()}\")\n",
    "print(f\"num images: {len(images_df)}\")\n",
    "print(f\"num annotations: {len(annotations_df)}\")\n",
    "print(f\"num track_ids: {len(annotations_df['track_id'].unique())}\")"
   ]
  },
  {
   "cell_type": "code",
   "execution_count": null,
   "metadata": {},
   "outputs": [],
   "source": []
  }
 ],
 "metadata": {
  "kernelspec": {
   "display_name": "machine-learning",
   "language": "python",
   "name": "python3"
  },
  "language_info": {
   "codemirror_mode": {
    "name": "ipython",
    "version": 3
   },
   "file_extension": ".py",
   "mimetype": "text/x-python",
   "name": "python",
   "nbconvert_exporter": "python",
   "pygments_lexer": "ipython3",
   "version": "3.11.10"
  }
 },
 "nbformat": 4,
 "nbformat_minor": 2
}
